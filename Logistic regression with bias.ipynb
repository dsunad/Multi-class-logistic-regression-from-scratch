{
 "cells": [
  {
   "cell_type": "code",
   "execution_count": 44,
   "metadata": {},
   "outputs": [],
   "source": [
    "import numpy as np\n",
    "from scipy import stats\n",
    "import time\n",
    "import matplotlib.pyplot as plt\n",
    "from sklearn.datasets import make_blobs\n",
    "from matplotlib import pyplot\n",
    "from pandas import DataFrame\n",
    "from sklearn.linear_model import LogisticRegression \n"
   ]
  },
  {
   "cell_type": "code",
   "execution_count": 45,
   "metadata": {},
   "outputs": [
    {
     "data": {
      "image/png": "[encoded data removed]",
      "text/plain": [
       "<Figure size 432x288 with 1 Axes>"
      ]
     },
     "metadata": {
      "needs_background": "light"
     },
     "output_type": "display_data"
    },
    {
     "name": "stdout",
     "output_type": "stream",
     "text": [
      "(2000, 3)\n",
      "(2000, 5)\n",
      "(2000,)\n"
     ]
    }
   ],
   "source": [
    "\"\"\"\n",
    "This algorithm is designed deal with the weighted likelihood function mentioned in the paper \"LOCAL UNCERTAINTY SAMPLING FOR LARGE-SCALE\n",
    "MULTI-CLASS LOGISTIC REGRESSION\", the input matrix A is the weight matrix, which is returned by other learning algorithms. In order \n",
    "to simulate the unweighted version, just set A = np.ones([n, K]), as what I do below\n",
    "\"\"\"\n",
    "#Generate some test data\n",
    "n=2000\n",
    "K=3\n",
    "d=5\n",
    "X, y = make_blobs(n_samples=n, centers=K, n_features=d)\n",
    "gamma=2\n",
    "# scatter plot, dots colored by class value\n",
    "df = DataFrame(dict(x=X[:,0], y=X[:,1], label=y))\n",
    "colors = {0:'red', 1:'blue', 2:'green'}\n",
    "fig, ax = pyplot.subplots()\n",
    "grouped = df.groupby('label')\n",
    "for key, group in grouped:\n",
    "    group.plot(ax=ax, kind='scatter', x='x', y='y', label=key, color=colors[key])\n",
    "pyplot.show()\n",
    "#set A = np.ones([n, K]) to simulate unweighted version\n",
    "A = np.ones([n, K])\n",
    "print(A.shape)\n",
    "print(np.shape(X))\n",
    "print(np.shape(y))"
   ]
  },
  {
   "cell_type": "code",
   "execution_count": 46,
   "metadata": {},
   "outputs": [],
   "source": [
    "\"\"\"\n",
    "Input to the logistic regression:\n",
    "X (n, d) the training data, n is the number of data and d is number of features\n",
    "y (n) the training label, varies from 0 to K-1 where K is number of classes\n",
    "K scalar, number of classes\n",
    "A (n, K) the weight matrix\n",
    "learning rate lr\n",
    "learning rate decay decay, default setting is 1\n",
    "number of iterations num_iter\n",
    "\n",
    "\"\"\"\n",
    "\n",
    "def initialize_W_b(X, K):\n",
    "    \"\"\"\n",
    "    X is n*d\n",
    "    K is number of classes\n",
    "    return W is K-1*d\n",
    "    return b is K-1\n",
    "    \"\"\"\n",
    "    n, d = np.shape(X)\n",
    "    W = np.random.rand(K-1, d)\n",
    "    b = np.random.rand(K-1)\n",
    "    return W, b\n",
    "    \n",
    "    \n",
    "def likelihood(X, y, W, b, A):\n",
    "    \"\"\"\n",
    "    A n*K\n",
    "    return the log likelihood\n",
    "    \"\"\"\n",
    "    n, d= np.shape(X)\n",
    "    n, K=np.shape(A)\n",
    "    \n",
    "    #应该用 X*W.T 得到n*(K-1)的f(X)矩阵\n",
    "    f_X = np.dot(X, W.T) + b\n",
    "    #first K-1 columns of A\n",
    "    A_first = A[ : ,0:K-1 ]\n",
    "    e_f = np.exp(f_X)\n",
    "    denumerator = e_f * A_first#n*K-1\n",
    "    denumerator = 1+ np.sum(denumerator, axis = 1)*(1/A[ : , K-1])#/a(xi,K),这一步后得到的形状是(n, )\n",
    "    Indicator_matrix = np.zeros([n, K-1])#n*K-1\n",
    "    for i in range(0, n):\n",
    "        if y[i]!=K-1:\n",
    "            Indicator_matrix[i, y[i]] = 1\n",
    "    part1=Indicator_matrix*f_X#n*K-1\n",
    "    part2=np.log(denumerator)#n\n",
    "    ll=(np.sum(part1)-np.sum(part2))/n\n",
    "    return ll\n",
    "    \n",
    "    \n",
    "def getGradient(X, y, A, W, b):\n",
    "    \"\"\"\n",
    "    return the gradient GradW K-1*d, Gradb K-1\n",
    "    \n",
    "    \"\"\"\n",
    "    n, d= np.shape(X)\n",
    "    n, K=np.shape(A)\n",
    "    GradW = np.zeros([K-1, d])\n",
    "    Gradb = np.zeros(K-1)\n",
    "    \n",
    "    #first K-1 columns of A\n",
    "    A_first = A[ : ,0:K-1 ]\n",
    "    f_X = np.dot(X, W.T) + b\n",
    "    e_f = np.exp(f_X)\n",
    "    denumerator = e_f * A_first#n*K-1\n",
    "    denumerator = 1+ np.sum(denumerator, axis = 1)*(1/A[ : , K-1])#/a(xi,K),这一步后得到的形状是(n, )\n",
    "    for j in range(0, K-1):\n",
    "        Indicator = np.zeros(n)\n",
    "        Indicator[y==j] = 1\n",
    "        gradw = np.dot(Indicator, X)\n",
    "        temp = e_f[ : , j]*A[ : , j]/(A[ : , K-1]*denumerator)\n",
    "        gradw = gradw - np.dot(temp, X)\n",
    "        gradw = gradw/n\n",
    "        GradW[ j , : ] = gradw\n",
    "        gradb = sum(Indicator)-np.sum(temp)\n",
    "        Gradb[j] = gradb/n\n",
    "    \n",
    "    return GradW, Gradb\n",
    "    \n",
    "def multi_class_logistic_regression(X, y, K, A, lr, decay, num_iter):\n",
    "    \"\"\"\n",
    "    Main function, return W and b which are the learned parameters\n",
    "    Also return the history of log likelihoods as hist\n",
    "    \n",
    "    \"\"\"\n",
    "    W, b = initialize_W_b(X, K)\n",
    "    hist = np.zeros(num_iter)#record the history of log likelihood\n",
    "    for i in range(0, num_iter):\n",
    "        #print(\"iteration %\", i)\n",
    "        ll = likelihood(X, y, W, b, A)\n",
    "        hist[i]=ll\n",
    "        gradW, gradb = getGradient(X, y, A, W, b)\n",
    "        b = b + lr*gradb*decay**(i)\n",
    "        W = W + lr*gradW*decay**(i)\n",
    "    \n",
    "    return W, b, hist\n",
    "\n",
    "\n",
    "\n",
    "def predict(X, W, b):\n",
    "    \"\"\"\n",
    "    Predict function, return a vector y n*1\n",
    "    \"\"\"\n",
    "    n, d= np.shape(X)\n",
    "    K, d = np.shape(W)\n",
    "    y_pred = np.zeros(n)\n",
    "    f_X = np.dot(X, W.T) + b\n",
    "    e_f = np.exp(f_X)\n",
    "    Prob = np.hstack((e_f, np.ones((n,1))))\n",
    "    y_pred = np.argmax(Prob, axis = 1)\n",
    "    return y_pred"
   ]
  },
  {
   "cell_type": "code",
   "execution_count": 47,
   "metadata": {},
   "outputs": [
    {
     "data": {
      "text/plain": [
       "[<matplotlib.lines.Line2D at 0x1d03805b4e0>]"
      ]
     },
     "execution_count": 47,
     "metadata": {},
     "output_type": "execute_result"
    },
    {
     "data": {
      "image/png": "[encoded data removed]",
      "text/plain": [
       "<Figure size 432x288 with 1 Axes>"
      ]
     },
     "metadata": {
      "needs_background": "light"
     },
     "output_type": "display_data"
    }
   ],
   "source": [
    "W, b, hist=multi_class_logistic_regression(X, y, K, A, 1e-3, 1, num_iter=15000)\n",
    "plt.plot(hist)"
   ]
  },
  {
   "cell_type": "code",
   "execution_count": 49,
   "metadata": {},
   "outputs": [
    {
     "name": "stdout",
     "output_type": "stream",
     "text": [
      "test accuracy is 0.0\n"
     ]
    }
   ],
   "source": [
    "y_pred = predict(X,W,b)\n",
    "print(\"test accuracy is\",sum((y_pred!=y)/n))"
   ]
  },
  {
   "cell_type": "code",
   "execution_count": null,
   "metadata": {},
   "outputs": [],
   "source": []
  }
 ],
 "metadata": {
  "kernelspec": {
   "display_name": "Python 3",
   "language": "python",
   "name": "python3"
  },
  "language_info": {
   "codemirror_mode": {
    "name": "ipython",
    "version": 3
   },
   "file_extension": ".py",
   "mimetype": "text/x-python",
   "name": "python",
   "nbconvert_exporter": "python",
   "pygments_lexer": "ipython3",
   "version": "3.7.3"
  }
 },
 "nbformat": 4,
 "nbformat_minor": 2
}
